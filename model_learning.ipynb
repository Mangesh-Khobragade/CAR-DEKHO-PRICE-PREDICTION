{
 "cells": [
  {
   "cell_type": "code",
   "execution_count": 2,
   "metadata": {},
   "outputs": [
    {
     "name": "stdout",
     "output_type": "stream",
     "text": [
      "OneHotEncoder saved to encoder.pkl\n",
      "Model saved to comparison_df_lr.pkl\n",
      "Linear Regression RMSE: 1.5521416791111737\n",
      "Linear Regression R² Score: 0.8174820546014454\n",
      "   Actual Prices  Predicted Prices (Linear Regression)\n",
      "0          13.00                             13.636429\n",
      "1           5.00                              9.151467\n",
      "2           4.45                              4.859503\n",
      "3           8.45                              7.986187\n",
      "4           1.60                              3.089029\n"
     ]
    }
   ],
   "source": [
    "import pickle\n",
    "import pandas as pd\n",
    "import numpy as np\n",
    "from sklearn.model_selection import train_test_split\n",
    "from sklearn.linear_model import LinearRegression\n",
    "from sklearn.metrics import mean_squared_error, r2_score\n",
    "from sklearn.preprocessing import OneHotEncoder\n",
    "\n",
    "# Load the dataset\n",
    "overall_details = pd.read_csv('C:/Users/HP/Desktop/MY PROJECTS/CAR DEKHO/car_dekho_files/new files/overall_details.csv')\n",
    "\n",
    "# Step 1: Drop rows where 'filtered_price' is NaN\n",
    "overall_details.dropna(subset=['filtered_price'], inplace=True)\n",
    "\n",
    "# Step 2: Preprocessing (One-Hot Encoding for categorical variables)\n",
    "categorical_cols = ['ft', 'bt', 'transmission', 'ownerNo', 'oem', 'model', 'modelYear', 'centralVariantId', 'variantName']\n",
    "\n",
    "# One-Hot Encoding\n",
    "one_hot_encoder = OneHotEncoder(sparse_output=False, drop='first')\n",
    "encoded_cols = one_hot_encoder.fit_transform(overall_details[categorical_cols])\n",
    "\n",
    "with open('encoder.pkl', 'wb') as encoder_file:\n",
    "    pickle.dump(one_hot_encoder, encoder_file)\n",
    "\n",
    "print(\"OneHotEncoder saved to encoder.pkl\")\n",
    "\n",
    "# Combine with the rest of the data\n",
    "encoded_df = pd.DataFrame(encoded_cols, columns=one_hot_encoder.get_feature_names_out(categorical_cols))\n",
    "overall_details = pd.concat([overall_details.drop(columns=categorical_cols), encoded_df], axis=1)\n",
    "\n",
    "# Step 3: Split the data into features (X) and target (y)\n",
    "X = overall_details.drop(columns=['filtered_price'])  # Features\n",
    "y = overall_details['filtered_price']  # Target variable\n",
    "\n",
    "# Step 4: Split into train and test sets\n",
    "X_train, X_test, y_train, y_test = train_test_split(X, y, test_size=0.2, random_state=42)\n",
    "\n",
    "# Step 5: Train the Linear Regression model\n",
    "lr_model = LinearRegression()\n",
    "lr_model.fit(X_train, y_train)\n",
    "\n",
    "# Step 2: Save the model to a file using pickle\n",
    "with open('comparison_df_lr.pkl', 'wb') as file:\n",
    "    pickle.dump(lr_model, file)\n",
    "\n",
    "print(\"Model saved to comparison_df_lr.pkl\")\n",
    "\n",
    "# Step 6: Make predictions using Linear Regression\n",
    "y_pred_lr = lr_model.predict(X_test)\n",
    "\n",
    "# Step 7: Evaluate the Linear Regression model\n",
    "mse_lr = mean_squared_error(y_test, y_pred_lr)\n",
    "rmse_lr = np.sqrt(mse_lr)\n",
    "r2_lr = r2_score(y_test, y_pred_lr)\n",
    "\n",
    "print(f\"Linear Regression RMSE: {rmse_lr}\")\n",
    "print(f\"Linear Regression R² Score: {r2_lr}\")\n",
    "\n",
    "# Step 8: Compare the actual and predicted prices for Linear Regression\n",
    "comparison_df_lr = pd.DataFrame({'Actual Prices': y_test.values, 'Predicted Prices (Linear Regression)': y_pred_lr})\n",
    "print(comparison_df_lr.head())\n"
   ]
  }
 ],
 "metadata": {
  "kernelspec": {
   "display_name": "preprocessing",
   "language": "python",
   "name": "python3"
  },
  "language_info": {
   "codemirror_mode": {
    "name": "ipython",
    "version": 3
   },
   "file_extension": ".py",
   "mimetype": "text/x-python",
   "name": "python",
   "nbconvert_exporter": "python",
   "pygments_lexer": "ipython3",
   "version": "3.11.9"
  }
 },
 "nbformat": 4,
 "nbformat_minor": 2
}
