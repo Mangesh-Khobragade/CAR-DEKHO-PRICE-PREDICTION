{
 "cells": [
  {
   "cell_type": "code",
   "execution_count": 8,
   "metadata": {},
   "outputs": [
    {
     "name": "stdout",
     "output_type": "stream",
     "text": [
      "RandomForest model saved to comparison_df_rf.pkl\n",
      "Random Forest RMSE: 1.5253277264952654\n",
      "Random Forest R² Score: 0.8237337445473566\n",
      "   Actual Prices  Predicted Prices (Random Forest)\n",
      "0          13.00                         12.657600\n",
      "1           5.00                          5.988367\n",
      "2           4.45                          5.076900\n",
      "3           8.45                          7.889600\n",
      "4           1.60                          3.406400\n"
     ]
    }
   ],
   "source": [
    "import pickle\n",
    "import pandas as pd\n",
    "import numpy as np\n",
    "from sklearn.model_selection import train_test_split\n",
    "from sklearn.ensemble import RandomForestRegressor\n",
    "from sklearn.metrics import mean_squared_error, r2_score\n",
    "from sklearn.preprocessing import OneHotEncoder,StandardScaler\n",
    "\n",
    "# Step 1: Load and clean data\n",
    "overall_details = pd.read_csv('C:/Users/mange/Desktop/MY PROJECTS/CAR DEKHO/car_dekho_files/new files/overalldetails.csv')\n",
    "overall_details.dropna(subset=['filtered_price'], inplace=True)\n",
    "\n",
    "# Step 2: Define categorical and numerical features\n",
    "categorical_cols = ['ft', 'bt', 'transmission', 'ownerNo', 'oem', 'model', 'modelYear', 'variantName']\n",
    "numerical_cols = ['km']\n",
    "\n",
    "# Step 3: One-Hot Encoding for categorical variables\n",
    "one_hot_encoder = OneHotEncoder(sparse_output=False, drop='first')\n",
    "encoded_cols = one_hot_encoder.fit_transform(overall_details[categorical_cols])\n",
    "\n",
    "# Save encoder\n",
    "with open('encoder.pkl', 'wb') as encoder_file:\n",
    "    pickle.dump(one_hot_encoder, encoder_file)\n",
    "\n",
    "# Convert to DataFrame\n",
    "encoded_df = pd.DataFrame(encoded_cols, columns=one_hot_encoder.get_feature_names_out(categorical_cols))\n",
    "\n",
    "# Step 4: Normalize numerical columns using StandardScaler\n",
    "scaler = StandardScaler()\n",
    "scaled_numerical = scaler.fit_transform(overall_details[numerical_cols])\n",
    "\n",
    "# Save scaler\n",
    "with open('scaler.pkl', 'wb') as scaler_file:\n",
    "    pickle.dump(scaler, scaler_file)\n",
    "\n",
    "# Convert to DataFrame\n",
    "scaled_df = pd.DataFrame(scaled_numerical, columns=numerical_cols)\n",
    "\n",
    "# Step 5: Combine all features\n",
    "overall_details = pd.concat([overall_details.drop(columns=categorical_cols + numerical_cols), encoded_df, scaled_df], axis=1)\n",
    "\n",
    "# Step 6: Split into train and test sets\n",
    "X = overall_details.drop(columns=['filtered_price'])\n",
    "y = overall_details['filtered_price']\n",
    "X_train, X_test, y_train, y_test = train_test_split(X, y, test_size=0.2, random_state=42)\n",
    "\n",
    "# Step 7: Train the RandomForestRegressor model\n",
    "rf_model = RandomForestRegressor()\n",
    "rf_model.fit(X_train, y_train)\n",
    "\n",
    "# Step 8: Save the trained model\n",
    "with open('comparison_df_rf.pkl', 'wb') as model_file:\n",
    "    pickle.dump(rf_model, model_file)\n",
    "\n",
    "print(\"RandomForest model saved to comparison_df_rf.pkl\")\n",
    "\n",
    "#Step 9: Make predictions using Random Forest\n",
    "y_pred_rf = rf_model.predict(X_test)  \n",
    "\n",
    "# Step 10: Evaluate the Random Forest model\n",
    "mse_rf = mean_squared_error(y_test, y_pred_rf)\n",
    "rmse_rf = np.sqrt(mse_rf)\n",
    "r2_rf = r2_score(y_test, y_pred_rf)\n",
    "\n",
    "print(f\"Random Forest RMSE: {rmse_rf}\")\n",
    "print(f\"Random Forest R² Score: {r2_rf}\")\n",
    "\n",
    "# Step 11: Compare actual and predicted prices\n",
    "comparison_df_rf = pd.DataFrame({'Actual Prices': y_test.values, 'Predicted Prices (Random Forest)': y_pred_rf})\n",
    "print(comparison_df_rf.head())"
   ]
  }
 ],
 "metadata": {
  "kernelspec": {
   "display_name": "Python 3",
   "language": "python",
   "name": "python3"
  },
  "language_info": {
   "codemirror_mode": {
    "name": "ipython",
    "version": 3
   },
   "file_extension": ".py",
   "mimetype": "text/x-python",
   "name": "python",
   "nbconvert_exporter": "python",
   "pygments_lexer": "ipython3",
   "version": "3.13.2"
  }
 },
 "nbformat": 4,
 "nbformat_minor": 2
}
